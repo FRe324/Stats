{
 "cells": [
  {
   "cell_type": "markdown",
   "metadata": {},
   "source": [
    "1.\tFor a group of 7 people, find the probability that all 4 seasons (winter, spring, summer, fall) occur at least once each among their birthdays, assuming that all seasons are equally likely.\n"
   ]
  },
  {
   "cell_type": "code",
   "execution_count": null,
   "metadata": {},
   "outputs": [],
   "source": [
    "Seasons={Winter, spring, summer, fall}\n",
    "\n",
    "Number of people=7\n",
    "\n",
    "X be a variable such that it denotes the number of seasons which consists of birthdays of all 8 people,\n",
    "\n",
    "All seasons are equally likely,\n",
    "\n",
    "P(Winter)=P(spring)=P(Summer)=P(Fall)=1/4\n",
    "\n",
    "P{X=i} is probability of birthdays occurring in i seasons,\n",
    "\n",
    "P{X=1}=(4 C 1)(1/4)^7=\n",
    "\n",
    "P{X=2}=(4 C 2)(1/2)^7=\n",
    "\n",
    "P{X=3}=(4 C 3)(3/4)^7=\n",
    "\n",
    "P{X=4}=1−(P{X=3}−P{X=2}+P{X=1})\n",
    "\n",
    "P{X=4}=\n",
    "\n",
    "P{X=4}="
   ]
  },
  {
   "cell_type": "markdown",
   "metadata": {},
   "source": [
    "2.\tAlice attends a small college in which each class meets only once a week. She is deciding between 30 non-overlapping classes. There are 6 classes to choose from for each day of the week, Monday through Friday. Trusting in the benevolence of randomness, Alice decides to register for 7 randomly selected classes out of the 30, with all choices equally likely. What is the probability that she will have classes every day, Monday through Friday?\n"
   ]
  },
  {
   "cell_type": "code",
   "execution_count": null,
   "metadata": {},
   "outputs": [],
   "source": [
    "1-5∑(K=1)  (-1)^K+1  (5Ck)  (30-6k C  7)  (30 C 7)"
   ]
  }
 ],
 "metadata": {
  "kernelspec": {
   "display_name": "Python 3",
   "language": "python",
   "name": "python3"
  },
  "language_info": {
   "codemirror_mode": {
    "name": "ipython",
    "version": 3
   },
   "file_extension": ".py",
   "mimetype": "text/x-python",
   "name": "python",
   "nbconvert_exporter": "python",
   "pygments_lexer": "ipython3",
   "version": "3.8.5"
  }
 },
 "nbformat": 4,
 "nbformat_minor": 4
}
