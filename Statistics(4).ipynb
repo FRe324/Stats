{
 "cells": [
  {
   "cell_type": "code",
   "execution_count": null,
   "metadata": {},
   "outputs": [],
   "source": [
    "1. Is it possible that an event is independent of itself? If so, when?"
   ]
  },
  {
   "cell_type": "code",
   "execution_count": null,
   "metadata": {},
   "outputs": [],
   "source": [
    "The only events that are independent of themselves are those with probability either 0 or 1. That follows from the fact that a number is its own square if and only if it's either 0 or 1. The only way a random variable X can be independent of itself is if for every measurable set A, either Pr(X∈A)=1 or Pr(X∈A)=0\n",
    "\n"
   ]
  },
  {
   "cell_type": "code",
   "execution_count": null,
   "metadata": {},
   "outputs": [],
   "source": [
    "2. Is it always true that if A and B are independent events, then Ac and Bc are independent events? Show that it is, or give a counterexample."
   ]
  },
  {
   "cell_type": "code",
   "execution_count": null,
   "metadata": {},
   "outputs": [],
   "source": [
    "Assume AA and BB are independent. Then\n",
    "P(Ac∩Bc)=1−P(A∪B)=1−P(A)−P(B)+P(A∩B)=1−P(A)−P(B)+P(A)P(B)=(1−P(A))(1−P(B))=P(Ac)P(Bc).\n"
   ]
  }
 ],
 "metadata": {
  "kernelspec": {
   "display_name": "Python 3",
   "language": "python",
   "name": "python3"
  },
  "language_info": {
   "codemirror_mode": {
    "name": "ipython",
    "version": 3
   },
   "file_extension": ".py",
   "mimetype": "text/x-python",
   "name": "python",
   "nbconvert_exporter": "python",
   "pygments_lexer": "ipython3",
   "version": "3.8.5"
  }
 },
 "nbformat": 4,
 "nbformat_minor": 4
}
