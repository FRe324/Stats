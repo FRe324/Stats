{
 "cells": [
  {
   "cell_type": "markdown",
   "metadata": {},
   "source": [
    "1.\tA crime is committed by one of two suspects, A and B. Initially, there is equal evidence against both of them. In further investigation at the crime scene, it is found that the guilty party had a blood type found in 10% of the population. Suspect A does match this blood type, whereas the blood type of Suspect B is unknown. \n",
    "\n",
    "(a) Given this new information, what is the probability that A is the guilty party? \n",
    "\n",
    "(b) Given this new information, what is the probability that B’s blood type matches that found at the crime scene?"
   ]
  },
  {
   "cell_type": "code",
   "execution_count": null,
   "metadata": {},
   "outputs": [],
   "source": [
    "Consider, the events E1,E2E1,E2 and A P(E1)=12.P(E2)=12P(E1)=12.P(E2)=12\n",
    "\n",
    "P(E1/A)=20×100100×100,\n",
    "P(E2/A)=20×20100×100P(E1/A)=20×100100×100,\n",
    "P(E2/A)=20×20100×100\n",
    "\n",
    "∴∴ Required probability \n",
    "\n",
    "P(A/E1)=P(E1)×P(E1/A)P(E1)×P(E1/A)+P(E2)×P(E2/A)P(A/E1)=P(E1)×P(E1/A)P(E1)×P(E1/A)+P(E2)×P(E2/A)\n",
    "\n",
    "=12×20×100100×10012×20×100100×100+12×20×20100×100=12×20×100100×10012×20×100100×100+12×20×20100×100\n",
    "\n",
    "=20×10020×(100+20)=100120=56\n"
   ]
  }
 ],
 "metadata": {
  "kernelspec": {
   "display_name": "Python 3",
   "language": "python",
   "name": "python3"
  },
  "language_info": {
   "codemirror_mode": {
    "name": "ipython",
    "version": 3
   },
   "file_extension": ".py",
   "mimetype": "text/x-python",
   "name": "python",
   "nbconvert_exporter": "python",
   "pygments_lexer": "ipython3",
   "version": "3.8.5"
  }
 },
 "nbformat": 4,
 "nbformat_minor": 4
}
