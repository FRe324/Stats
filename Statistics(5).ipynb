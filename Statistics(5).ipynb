{
 "cells": [
  {
   "cell_type": "markdown",
   "metadata": {},
   "source": [
    "1.\tGive an example of 3 events A, B, C which are pairwise independent but not independent. Hint: find an example where whether C occurs is completely determined if we know whether A occurred and whether B occurred, but completely undetermined if we know only one of these things.\n"
   ]
  },
  {
   "cell_type": "code",
   "execution_count": null,
   "metadata": {},
   "outputs": [],
   "source": [
    "Consider two fair, independent coin tosses, and let A be the event that the first toss is Heads, B be the event that the second toss is Heads, and C be the event that the two tosses have the same result. Then A,B,C are dependent since \n",
    "P(A∩B∩C)=P(A∩B)=P(A)P(B)=1/4≠1/8=P(A)P(B)P(C)\n",
    ",P(A∩B∩C)=P(A∩B)=P(A)P(B)=1/4≠1/8=P(A)P(B)P(C), \n",
    "but they are pairwise independent: A and B are independent by definition; \n",
    "    A and C are independent since P(A∩C)=P(A∩B)=1/4=P(A)P(C),\n",
    "    P(A∩C)=P(A∩B)=1/4=P(A)P(C),\n",
    "    and similarly B and C are independent."
   ]
  },
  {
   "cell_type": "markdown",
   "metadata": {},
   "source": [
    "2.\tA bag contains one marble which is either green or blue, with equal probabilities. A green marble is put in the bag (so there are 2 marbles now), and then a random marble is taken out. The marble taken out is green. What is the probability that the remaining marble is also green?\n"
   ]
  },
  {
   "cell_type": "code",
   "execution_count": null,
   "metadata": {},
   "outputs": [],
   "source": [
    "Let AA be the event that the initial marble is green, BB be the event that the removed marble is green, and CC be the event that the remaining marble is green. We need to find P(C|B)P(C|B). There are several ways to find this; one natural way is to condition on whether the initial marble is green:\n",
    "P(C|B)=P(C|B,A)P(A|B)+P(C|B,Ac)P(Ac|B)=1P(A|B)+0P(Ac|B)P(C|B)=P(C|B,A)P(A|B)+P(C|B,Ac)P(Ac|B)=1P(A|B)+0P(Ac|B)\n",
    "Then they use Bayes' Rule to find P(A|B)=23P(A|B)=23.\n",
    "The main question I have is where P(C|B,A)P(A|B)+P(C|B,Ac)P(Ac|B)P(C|B,A)P(A|B)+P(C|B,Ac)P(Ac|B) comes from. It looks like the law of total probability but I'm not quite sure how it's derived. Could anyone point me in the right direction or link me to a derivation?\n",
    "Furthermore, why do we condition on BB here:\n",
    "P(C|B,A)P(A|B)+P(C|B,Ac)P(Ac|B)P(C|B,A)P(A|B)+P(C|B,Ac)P(Ac|B)\n",
    "Instead of just this:\n",
    "P(C|B,A)P(A)+P(C|B,Ac)P(Ac)\n"
   ]
  }
 ],
 "metadata": {
  "kernelspec": {
   "display_name": "Python 3",
   "language": "python",
   "name": "python3"
  },
  "language_info": {
   "codemirror_mode": {
    "name": "ipython",
    "version": 3
   },
   "file_extension": ".py",
   "mimetype": "text/x-python",
   "name": "python",
   "nbconvert_exporter": "python",
   "pygments_lexer": "ipython3",
   "version": "3.8.5"
  }
 },
 "nbformat": 4,
 "nbformat_minor": 4
}
